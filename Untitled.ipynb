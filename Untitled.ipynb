{
 "cells": [
  {
   "cell_type": "code",
   "execution_count": 2,
   "metadata": {},
   "outputs": [],
   "source": [
    "import numpy as np\n",
    "import matplotlib.pyplot as plt\n",
    "import vcfpy\n",
    "import time\n",
    "import os\n",
    "from util.vcf_to_csv import get_generators\n",
    "\n",
    "\n",
    "def transition_matrix(n, mu, p, beta):\n",
    "    \n",
    "    def b_t(a, sign):\n",
    "        return (1-sign*beta*p*a)/2\n",
    "\n",
    "    M = np.zeros((n, n))\n",
    "    \n",
    "    for i in range(n):\n",
    "        for j in range(n):\n",
    "            k = j-i\n",
    "            if k!=0:\n",
    "                M[i,j] = 0.5*mu*p*(1-p)**(np.abs(k)-1)\n",
    "            else:\n",
    "                M[i,j] = 1-mu #1-mu\n",
    "    \n",
    "    return M#np.exp(M)"
   ]
  },
  {
   "cell_type": "code",
   "execution_count": 55,
   "metadata": {},
   "outputs": [
    {
     "data": {
      "text/plain": [
       "<matplotlib.image.AxesImage at 0x7f88db78b5f8>"
      ]
     },
     "execution_count": 55,
     "metadata": {},
     "output_type": "execute_result"
    },
    {
     "data": {
      "image/png": "[encoded data removed]",
      "text/plain": [
       "<Figure size 432x288 with 1 Axes>"
      ]
     },
     "metadata": {
      "needs_background": "light"
     },
     "output_type": "display_data"
    }
   ],
   "source": [
    "T = transition_matrix(6, 0.4, 0.6, 0)\n",
    "plt.imshow(T)"
   ]
  },
  {
   "cell_type": "code",
   "execution_count": 78,
   "metadata": {},
   "outputs": [
    {
     "data": {
      "text/plain": [
       "(71, 17937)"
      ]
     },
     "execution_count": 78,
     "metadata": {},
     "output_type": "execute_result"
    }
   ],
   "source": [
    "srcf = 'data/CALR773/mutations0.csv'\n",
    "mutations = np.loadtxt(srcf)\n",
    "mutations.shape"
   ]
  },
  {
   "cell_type": "code",
   "execution_count": 71,
   "metadata": {},
   "outputs": [
    {
     "data": {
      "text/plain": [
       "1.0"
      ]
     },
     "execution_count": 71,
     "metadata": {},
     "output_type": "execute_result"
    }
   ],
   "source": []
  },
  {
   "cell_type": "code",
   "execution_count": 67,
   "metadata": {},
   "outputs": [
    {
     "data": {
      "text/plain": [
       "(65, 17937)"
      ]
     },
     "execution_count": 67,
     "metadata": {},
     "output_type": "execute_result"
    }
   ],
   "source": [
    "mbis = mutations.copy()\n",
    "for x in mbis:\n",
    "    x[x==3] = 0\n",
    "mbis.shape"
   ]
  },
  {
   "cell_type": "code",
   "execution_count": 66,
   "metadata": {},
   "outputs": [
    {
     "data": {
      "text/plain": [
       "(2,)"
      ]
     },
     "execution_count": 66,
     "metadata": {},
     "output_type": "execute_result"
    }
   ],
   "source": [
    "n_per_cell = np.sum(mbis, axis=0)\n",
    "ww = np.where(n_per_cell>0.1)[0]\n",
    "ww.shape"
   ]
  },
  {
   "cell_type": "code",
   "execution_count": 135,
   "metadata": {},
   "outputs": [
    {
     "data": {
      "text/plain": [
       "(71, 1447)"
      ]
     },
     "execution_count": 135,
     "metadata": {},
     "output_type": "execute_result"
    }
   ],
   "source": [
    "mutations = mutations[:,ww]\n",
    "mutations.shape"
   ]
  },
  {
   "cell_type": "code",
   "execution_count": 162,
   "metadata": {},
   "outputs": [],
   "source": [
    "MBs = np.where(np.sum(mutations==3, axis=0)<0.84*len(mutations))[0]"
   ]
  },
  {
   "cell_type": "code",
   "execution_count": 165,
   "metadata": {},
   "outputs": [
    {
     "data": {
      "text/plain": [
       "(71, 1026)"
      ]
     },
     "execution_count": 165,
     "metadata": {},
     "output_type": "execute_result"
    }
   ],
   "source": [
    "mutations.shape"
   ]
  },
  {
   "cell_type": "code",
   "execution_count": 166,
   "metadata": {},
   "outputs": [],
   "source": [
    "np.savetxt('data/CALR773/m2_mb.83.csv', mutations.shape)"
   ]
  },
  {
   "cell_type": "code",
   "execution_count": 98,
   "metadata": {},
   "outputs": [],
   "source": [
    "data_dir = '/gpfs/commons/groups/landau_lab/MSI_Project/CALR773/'\n",
    "vcf_file = os.path.join(data_dir, 'CALR773.haplotypecaller.reditoolsRM.h.snv.vcf')\n",
    "reader = vcfpy.Reader.from_path(vcf_file) \n",
    "i = 0\n",
    "for record in reader:\n",
    "    calls = record.calls\n",
    "    probs = sum_probs(calls)\n",
    "    if np.argmax(probs)!=0:\n",
    "        break"
   ]
  },
  {
   "cell_type": "code",
   "execution_count": 99,
   "metadata": {},
   "outputs": [
    {
     "data": {
      "text/plain": [
       "array([[7.99239990e-10, 2.00760009e-01, 7.99239990e-01]])"
      ]
     },
     "execution_count": 99,
     "metadata": {},
     "output_type": "execute_result"
    }
   ],
   "source": [
    "probs"
   ]
  },
  {
   "cell_type": "code",
   "execution_count": 12,
   "metadata": {},
   "outputs": [],
   "source": [
    "kept= []\n",
    "for call in calls:\n",
    "    if call.data['AD']:\n",
    "        kept.append((call.data['GT'],call.data['PL']))"
   ]
  },
  {
   "cell_type": "code",
   "execution_count": 95,
   "metadata": {},
   "outputs": [],
   "source": [
    "def to_lkl(pl):\n",
    "    pl = np.array(pl).astype(float)\n",
    "    x_m = 10*np.log(\n",
    "        np.sum(np.power(10, -pl/10))\n",
    "    )/np.log(10)\n",
    "    pl += x_m\n",
    "    l = np.power(10, -pl/10)\n",
    "    return l\n",
    "\n",
    "def sum_probs(calls):\n",
    "    return np.sum([\n",
    "        np.array([to_lkl(call.data['PL']) for call in calls if call.data['AD']])\n",
    "    ], axis=1)"
   ]
  },
  {
   "cell_type": "code",
   "execution_count": null,
   "metadata": {},
   "outputs": [],
   "source": [
    "kept"
   ]
  }
 ],
 "metadata": {
  "kernelspec": {
   "display_name": "Python [conda env:.conda-wcm] *",
   "language": "python",
   "name": "conda-env-.conda-wcm-py"
  },
  "language_info": {
   "codemirror_mode": {
    "name": "ipython",
    "version": 3
   },
   "file_extension": ".py",
   "mimetype": "text/x-python",
   "name": "python",
   "nbconvert_exporter": "python",
   "pygments_lexer": "ipython3",
   "version": "3.6.10"
  }
 },
 "nbformat": 4,
 "nbformat_minor": 4
}
